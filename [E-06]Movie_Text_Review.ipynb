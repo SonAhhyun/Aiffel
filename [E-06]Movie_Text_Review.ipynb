{
 "cells": [
  {
   "cell_type": "markdown",
   "id": "34011fd4",
   "metadata": {},
   "source": [
    "# Exploration_6\n",
    "## Movie Text Review Analysis (Korean ver.)\n",
    "---\n",
    "* 다양한 방법으로 Text Classification task를 성공적으로 구현하기 - 3가지 이상의 모델 시도\n",
    "* gensim을 활용하여 자체학습된 혹은 사전학습된 Embedding layer 분석하기 - gensim의 유사단어 찾기를 활용하여 자체학습한 Embedding과 사전학습 Embedding을 적절히 분석\n",
    "* 한국어 Word2Vec을 활용하여 가시적인 성능향상 달성하기 - 네이버 영화리뷰 데이터 감성분석 정확도를 85% 이상 달성"
   ]
  },
  {
   "cell_type": "markdown",
   "id": "191b00d8",
   "metadata": {},
   "source": [
    "### 데이터 준비와 확인"
   ]
  },
  {
   "cell_type": "code",
   "execution_count": 1,
   "id": "5142d421",
   "metadata": {
    "scrolled": true
   },
   "outputs": [],
   "source": [
    "import pandas as pd\n",
    "\n",
    "train_data = pd.read_table('~/aiffel/sentiment_classification/data/ratings_train.txt')\n",
    "test_data = pd.read_table('~/aiffel/sentiment_classification/data/ratings_test.txt')"
   ]
  },
  {
   "cell_type": "code",
   "execution_count": 2,
   "id": "068256ef",
   "metadata": {},
   "outputs": [
    {
     "data": {
      "text/html": [
       "<div>\n",
       "<style scoped>\n",
       "    .dataframe tbody tr th:only-of-type {\n",
       "        vertical-align: middle;\n",
       "    }\n",
       "\n",
       "    .dataframe tbody tr th {\n",
       "        vertical-align: top;\n",
       "    }\n",
       "\n",
       "    .dataframe thead th {\n",
       "        text-align: right;\n",
       "    }\n",
       "</style>\n",
       "<table border=\"1\" class=\"dataframe\">\n",
       "  <thead>\n",
       "    <tr style=\"text-align: right;\">\n",
       "      <th></th>\n",
       "      <th>id</th>\n",
       "      <th>document</th>\n",
       "      <th>label</th>\n",
       "    </tr>\n",
       "  </thead>\n",
       "  <tbody>\n",
       "    <tr>\n",
       "      <th>0</th>\n",
       "      <td>9976970</td>\n",
       "      <td>아 더빙.. 진짜 짜증나네요 목소리</td>\n",
       "      <td>0</td>\n",
       "    </tr>\n",
       "    <tr>\n",
       "      <th>1</th>\n",
       "      <td>3819312</td>\n",
       "      <td>흠...포스터보고 초딩영화줄....오버연기조차 가볍지 않구나</td>\n",
       "      <td>1</td>\n",
       "    </tr>\n",
       "    <tr>\n",
       "      <th>2</th>\n",
       "      <td>10265843</td>\n",
       "      <td>너무재밓었다그래서보는것을추천한다</td>\n",
       "      <td>0</td>\n",
       "    </tr>\n",
       "    <tr>\n",
       "      <th>3</th>\n",
       "      <td>9045019</td>\n",
       "      <td>교도소 이야기구먼 ..솔직히 재미는 없다..평점 조정</td>\n",
       "      <td>0</td>\n",
       "    </tr>\n",
       "    <tr>\n",
       "      <th>4</th>\n",
       "      <td>6483659</td>\n",
       "      <td>사이몬페그의 익살스런 연기가 돋보였던 영화!스파이더맨에서 늙어보이기만 했던 커스틴 ...</td>\n",
       "      <td>1</td>\n",
       "    </tr>\n",
       "  </tbody>\n",
       "</table>\n",
       "</div>"
      ],
      "text/plain": [
       "         id                                           document  label\n",
       "0   9976970                                아 더빙.. 진짜 짜증나네요 목소리      0\n",
       "1   3819312                  흠...포스터보고 초딩영화줄....오버연기조차 가볍지 않구나      1\n",
       "2  10265843                                  너무재밓었다그래서보는것을추천한다      0\n",
       "3   9045019                      교도소 이야기구먼 ..솔직히 재미는 없다..평점 조정      0\n",
       "4   6483659  사이몬페그의 익살스런 연기가 돋보였던 영화!스파이더맨에서 늙어보이기만 했던 커스틴 ...      1"
      ]
     },
     "execution_count": 2,
     "metadata": {},
     "output_type": "execute_result"
    }
   ],
   "source": [
    "# 훈련데이터 5개만 알아보기\n",
    "train_data.head()"
   ]
  },
  {
   "cell_type": "code",
   "execution_count": 3,
   "id": "96f55626",
   "metadata": {},
   "outputs": [
    {
     "data": {
      "text/html": [
       "<div>\n",
       "<style scoped>\n",
       "    .dataframe tbody tr th:only-of-type {\n",
       "        vertical-align: middle;\n",
       "    }\n",
       "\n",
       "    .dataframe tbody tr th {\n",
       "        vertical-align: top;\n",
       "    }\n",
       "\n",
       "    .dataframe thead th {\n",
       "        text-align: right;\n",
       "    }\n",
       "</style>\n",
       "<table border=\"1\" class=\"dataframe\">\n",
       "  <thead>\n",
       "    <tr style=\"text-align: right;\">\n",
       "      <th></th>\n",
       "      <th>id</th>\n",
       "      <th>document</th>\n",
       "      <th>label</th>\n",
       "    </tr>\n",
       "  </thead>\n",
       "  <tbody>\n",
       "    <tr>\n",
       "      <th>0</th>\n",
       "      <td>6270596</td>\n",
       "      <td>굳 ㅋ</td>\n",
       "      <td>1</td>\n",
       "    </tr>\n",
       "    <tr>\n",
       "      <th>1</th>\n",
       "      <td>9274899</td>\n",
       "      <td>GDNTOPCLASSINTHECLUB</td>\n",
       "      <td>0</td>\n",
       "    </tr>\n",
       "    <tr>\n",
       "      <th>2</th>\n",
       "      <td>8544678</td>\n",
       "      <td>뭐야 이 평점들은.... 나쁘진 않지만 10점 짜리는 더더욱 아니잖아</td>\n",
       "      <td>0</td>\n",
       "    </tr>\n",
       "    <tr>\n",
       "      <th>3</th>\n",
       "      <td>6825595</td>\n",
       "      <td>지루하지는 않은데 완전 막장임... 돈주고 보기에는....</td>\n",
       "      <td>0</td>\n",
       "    </tr>\n",
       "    <tr>\n",
       "      <th>4</th>\n",
       "      <td>6723715</td>\n",
       "      <td>3D만 아니었어도 별 다섯 개 줬을텐데.. 왜 3D로 나와서 제 심기를 불편하게 하죠??</td>\n",
       "      <td>0</td>\n",
       "    </tr>\n",
       "  </tbody>\n",
       "</table>\n",
       "</div>"
      ],
      "text/plain": [
       "        id                                           document  label\n",
       "0  6270596                                                굳 ㅋ      1\n",
       "1  9274899                               GDNTOPCLASSINTHECLUB      0\n",
       "2  8544678             뭐야 이 평점들은.... 나쁘진 않지만 10점 짜리는 더더욱 아니잖아      0\n",
       "3  6825595                   지루하지는 않은데 완전 막장임... 돈주고 보기에는....      0\n",
       "4  6723715  3D만 아니었어도 별 다섯 개 줬을텐데.. 왜 3D로 나와서 제 심기를 불편하게 하죠??      0"
      ]
     },
     "execution_count": 3,
     "metadata": {},
     "output_type": "execute_result"
    }
   ],
   "source": [
    "# 마찬가지로 테스트데이터 5개만 알아보기\n",
    "test_data.head()"
   ]
  },
  {
   "cell_type": "markdown",
   "id": "d960186a",
   "metadata": {},
   "source": [
    "### 데이터로더 구성\n",
    "* 데이터의 중복 제거\n",
    "* NaN 결측지 제거\n",
    "* 한국어 토크나이저로 토큰화\n",
    "* 불용어(Stopwords) 제거\n",
    "* 사전 word_to_index 구성\n",
    "* 텍스트 스트링을 사전 인덱스 스트링으로 변환\n",
    "* X_train, y_train, X_test, y_test, word_to_index 리턴"
   ]
  },
  {
   "cell_type": "code",
   "execution_count": 4,
   "id": "62dd96c2",
   "metadata": {},
   "outputs": [
    {
     "name": "stdout",
     "output_type": "stream",
     "text": [
      "훈련 샘플 개수 : 146182, 테스트 개수 : 49157\n",
      "word_to_index :  9997\n"
     ]
    }
   ],
   "source": [
    "from konlpy.tag import Mecab\n",
    "import numpy as np\n",
    "from collections import Counter\n",
    "\n",
    "tokenizer = Mecab()\n",
    "stopwords = ['의','가','이','은','들','는','좀','잘','걍','과','도','를','으로','자','에','와','한','하다']\n",
    "\n",
    "def load_data(train_data, test_data, num_words=10000):\n",
    "    train_data.drop_duplicates(subset=['document'], inplace=True)\n",
    "    train_data = train_data.dropna(how = 'any') \n",
    "    test_data.drop_duplicates(subset=['document'], inplace=True)\n",
    "    test_data = test_data.dropna(how = 'any') \n",
    "    \n",
    "    X_train = []\n",
    "    for sentence in train_data['document']:\n",
    "        temp_X = tokenizer.morphs(sentence) # 토큰화\n",
    "        temp_X = [word for word in temp_X if not word in stopwords] # 불용어 제거\n",
    "        X_train.append(temp_X)\n",
    "\n",
    "    X_test = []\n",
    "    for sentence in test_data['document']:\n",
    "        temp_X = tokenizer.morphs(sentence) # 토큰화\n",
    "        temp_X = [word for word in temp_X if not word in stopwords] # 불용어 제거\n",
    "        X_test.append(temp_X)\n",
    "    \n",
    "    words = np.concatenate(X_train).tolist()\n",
    "    counter = Counter(words)\n",
    "    counter = counter.most_common(10000-4)\n",
    "    vocab = ['', '', '', ''] + [key for key, _ in counter]\n",
    "    word_to_index = {word:index for index, word in enumerate(vocab)}\n",
    "        \n",
    "    def wordlist_to_indexlist(wordlist):\n",
    "        return [word_to_index[word] if word in word_to_index else word_to_index[''] for word in wordlist]\n",
    "        \n",
    "    X_train = list(map(wordlist_to_indexlist, X_train))\n",
    "    X_test = list(map(wordlist_to_indexlist, X_test))\n",
    "        \n",
    "    return X_train, np.array(list(train_data['label'])), X_test, np.array(list(test_data['label'])), word_to_index\n",
    "    \n",
    "X_train, y_train, X_test, y_test, word_to_index = load_data(train_data, test_data)\n",
    "print('훈련 샘플 개수 : {}, 테스트 개수 : {}'.format(len(X_train), len(X_test)))\n",
    "print('word_to_index : ', len(word_to_index))"
   ]
  },
  {
   "cell_type": "code",
   "execution_count": 5,
   "id": "02c726ee",
   "metadata": {
    "scrolled": true
   },
   "outputs": [
    {
     "name": "stdout",
     "output_type": "stream",
     "text": [
      "[32, 74, 919, 4, 4, 39, 228, 20, 33, 748]\n",
      "라벨 :  0\n",
      "1번째 리뷰 문장 길이 :  10\n",
      "2번째 리뷰 문장 길이 :  17\n"
     ]
    }
   ],
   "source": [
    "print(X_train[0]) # 1번째 리뷰데이터\n",
    "print('라벨 : ', y_train[0]) # 1번째 리뷰데이터의 라벨\n",
    "print('1번째 리뷰 문장 길이 : ', len(X_train[0]))\n",
    "print('2번째 리뷰 문장 길이 : ', len(X_train[1]))"
   ]
  },
  {
   "cell_type": "code",
   "execution_count": 6,
   "id": "19784b4a",
   "metadata": {},
   "outputs": [],
   "source": [
    "word_to_index['<PAD>'] = 0 # 패딩\n",
    "word_to_index['<BOS>'] = 1 # 모든 문장의 시작\n",
    "word_to_index['<UNK>'] = 2 # Unknown"
   ]
  },
  {
   "cell_type": "code",
   "execution_count": 7,
   "id": "d5677ee5",
   "metadata": {},
   "outputs": [],
   "source": [
    "# index : word 형태의 딕셔너리 생성\n",
    "index_to_word = {index:word for word, index in word_to_index.items()}"
   ]
  },
  {
   "cell_type": "code",
   "execution_count": 8,
   "id": "46395842",
   "metadata": {},
   "outputs": [],
   "source": [
    "# 문장 1개를 활용할 딕셔너리와 함께 주면, 단어 인덱스 리스트 벡터로 변환해 주는 함수입니다. \n",
    "# 단, 모든 문장은 <BOS>로 시작하는 것으로 합니다. \n",
    "def get_encoded_sentence(sentence, word_to_index):\n",
    "    return [word_to_index['<BOS>']]+[word_to_index[word] if word in word_to_index else word_to_index['<UNK>'] for word in sentence.split()]\n",
    "\n",
    "# 여러 개의 문장 리스트를 한꺼번에 단어 인덱스 리스트 벡터로 encode해 주는 함수입니다. \n",
    "def get_encoded_sentences(sentences, word_to_index):\n",
    "    return [get_encoded_sentence(sentence, word_to_index) for sentence in sentences]\n",
    "\n",
    "# 숫자 벡터로 encode된 문장을 원래대로 decode하는 함수입니다. \n",
    "def get_decoded_sentence(encoded_sentence, index_to_word):\n",
    "    return ' '.join(index_to_word[index] if index in index_to_word else '<UNK>' for index in encoded_sentence[1:])  #[1:]를 통해 <BOS>를 제외\n",
    "\n",
    "# 여러 개의 숫자 벡터로 encode된 문장을 한꺼번에 원래대로 decode하는 함수입니다. \n",
    "def get_decoded_sentences(encoded_sentences, index_to_word):\n",
    "    return [get_decoded_sentence(encoded_sentence, index_to_word) for encoded_sentence in encoded_sentences]"
   ]
  },
  {
   "cell_type": "code",
   "execution_count": 9,
   "id": "33fbac8f",
   "metadata": {},
   "outputs": [
    {
     "name": "stdout",
     "output_type": "stream",
     "text": [
      "더 빙 . . 진짜 짜증 나 네요 목소리\n",
      "라벨 :  0\n"
     ]
    }
   ],
   "source": [
    "print(get_decoded_sentence(X_train[0], index_to_word))\n",
    "print('라벨 : ', y_train[0])"
   ]
  },
  {
   "cell_type": "markdown",
   "id": "d630f9fe",
   "metadata": {},
   "source": [
    "### 모델 구성을 위한 데이터 분석 및 가공\n",
    "* 데이터셋 내 문장 길이 분포\n",
    "* 적절한 최대 문장 길이 지정\n",
    "* keras.preprocessing.sequence.pad_sequences 을 활용한 패딩 추가"
   ]
  },
  {
   "cell_type": "code",
   "execution_count": 10,
   "id": "0d3f8ae7",
   "metadata": {},
   "outputs": [
    {
     "name": "stdout",
     "output_type": "stream",
     "text": [
      "문장길이 평균 :  15.96940191154864\n",
      "문장길이 최대 :  116\n",
      "문장길이 표준편차 :  12.843571191092\n",
      "pad_sequences maxlen :  41\n",
      "전체 문장의 0.9342988343341575%가 maxlen 설정값 이내에 포함됩니다. \n"
     ]
    }
   ],
   "source": [
    "total_data_text = list(X_train) + list(X_test)\n",
    "# 텍스트 데이터 문장길이의 리스트를 생성한 후\n",
    "num_tokens = [len(tokens) for tokens in total_data_text]\n",
    "num_tokens = np.array(num_tokens)\n",
    "# 문장길이의 평균값, 최대값, 표준편차를 계산해 본다.\n",
    "print('문장길이 평균 : ', np.mean(num_tokens))\n",
    "print('문장길이 최대 : ', np.max(num_tokens))\n",
    "print('문장길이 표준편차 : ', np.std(num_tokens))\n",
    "\n",
    "# 예를 들어, 최대 길이를 (평균 + 2x표준편차)로 한다면,\n",
    "max_tokens = np.mean(num_tokens) + 2*np.std(num_tokens)\n",
    "maxlen = int(max_tokens)\n",
    "print('pad_sequences maxlen : ', maxlen)\n",
    "print('전체 문장의 {}%가 maxlen 설정값 이내에 포함됩니다. '.format(np.sum(num_tokens < max_tokens) / len(num_tokens)))"
   ]
  },
  {
   "cell_type": "code",
   "execution_count": 11,
   "id": "8bde79da",
   "metadata": {
    "scrolled": true
   },
   "outputs": [
    {
     "name": "stdout",
     "output_type": "stream",
     "text": [
      "(146182, 41)\n",
      "(49157, 41)\n"
     ]
    }
   ],
   "source": [
    "# 문장길이를 맞춰주기 위해 문장 끝에 padding을 추가해준다.\n",
    "import tensorflow as tf\n",
    "import os\n",
    "\n",
    "X_train = tf.keras.preprocessing.sequence.pad_sequences(X_train,\n",
    "                                                          value=word_to_index['<PAD>'],\n",
    "                                                          padding='post',\n",
    "                                                          maxlen=maxlen)\n",
    "X_test = tf.keras.preprocessing.sequence.pad_sequences(X_test,\n",
    "                                                          value=word_to_index['<PAD>'],\n",
    "                                                          padding='post',\n",
    "                                                          maxlen=maxlen)\n",
    "print(X_train.shape)\n",
    "print(X_test.shape)"
   ]
  },
  {
   "cell_type": "code",
   "execution_count": 12,
   "id": "c83bef6c",
   "metadata": {},
   "outputs": [
    {
     "name": "stdout",
     "output_type": "stream",
     "text": [
      "(132182, 41)\n",
      "(132182,)\n"
     ]
    }
   ],
   "source": [
    "# 훈련 데이터 약 1/10을 validation set으로 사용\n",
    "X_val = X_train[:14000]\n",
    "y_val = y_train[:14000]\n",
    "\n",
    "# validation set을 제외한 나머지는 모두 훈련 데이터로 사용\n",
    "partial_X_train = X_train[14000:]\n",
    "partial_y_train = y_train[14000:]\n",
    "\n",
    "print(partial_X_train.shape)\n",
    "print(partial_y_train.shape)"
   ]
  },
  {
   "cell_type": "markdown",
   "id": "9d418156",
   "metadata": {},
   "source": [
    "### 모델 구성 및 validation set 구성\n",
    "   * 모델은 3가지 이상 다양하게 구성하여 실험해 보기  \n",
    "   \n",
    "### 모델 훈련 개시\n",
    "### Loss, Accuracy 그래프 시각화"
   ]
  },
  {
   "cell_type": "code",
   "execution_count": 13,
   "id": "4b1d3771",
   "metadata": {},
   "outputs": [],
   "source": [
    "vocab_size = 10000 # 어휘 사전의 크기(10,000개의 단어)\n",
    "word_vector_dim = 5 # 워드 벡터의 차원수"
   ]
  },
  {
   "cell_type": "markdown",
   "id": "a5c4b7ca",
   "metadata": {},
   "source": [
    "#### 1. GlobalMaxPooling1D layer 하나만 사용"
   ]
  },
  {
   "cell_type": "code",
   "execution_count": 14,
   "id": "353e3126",
   "metadata": {},
   "outputs": [
    {
     "name": "stdout",
     "output_type": "stream",
     "text": [
      "Model: \"sequential\"\n",
      "_________________________________________________________________\n",
      "Layer (type)                 Output Shape              Param #   \n",
      "=================================================================\n",
      "embedding (Embedding)        (None, None, 5)           50000     \n",
      "_________________________________________________________________\n",
      "global_max_pooling1d (Global (None, 5)                 0         \n",
      "_________________________________________________________________\n",
      "dense (Dense)                (None, 8)                 48        \n",
      "_________________________________________________________________\n",
      "dense_1 (Dense)              (None, 1)                 9         \n",
      "=================================================================\n",
      "Total params: 50,057\n",
      "Trainable params: 50,057\n",
      "Non-trainable params: 0\n",
      "_________________________________________________________________\n"
     ]
    }
   ],
   "source": [
    "# GlobalMaxPooling1D layer 하나만 사용하는 모델 설계\n",
    "\n",
    "model = tf.keras.Sequential()\n",
    "model.add(tf.keras.layers.Embedding(vocab_size, word_vector_dim, input_shape=(None,)))\n",
    "model.add(tf.keras.layers.GlobalMaxPooling1D())\n",
    "model.add(tf.keras.layers.Dense(8, activation='relu'))\n",
    "model.add(tf.keras.layers.Dense(1, activation='sigmoid')) # 최종 출력은 긍정/부정을 나타내는 1dim 입니다.\n",
    "\n",
    "model.summary()"
   ]
  },
  {
   "cell_type": "code",
   "execution_count": 15,
   "id": "1c945525",
   "metadata": {},
   "outputs": [
    {
     "name": "stdout",
     "output_type": "stream",
     "text": [
      "Epoch 1/5\n",
      "259/259 [==============================] - 2s 4ms/step - loss: 0.6450 - accuracy: 0.6493 - val_loss: 0.5599 - val_accuracy: 0.7642\n",
      "Epoch 2/5\n",
      "259/259 [==============================] - 1s 3ms/step - loss: 0.5073 - accuracy: 0.8064 - val_loss: 0.4696 - val_accuracy: 0.8225\n",
      "Epoch 3/5\n",
      "259/259 [==============================] - 1s 3ms/step - loss: 0.4426 - accuracy: 0.8377 - val_loss: 0.4362 - val_accuracy: 0.8260\n",
      "Epoch 4/5\n",
      "259/259 [==============================] - 1s 3ms/step - loss: 0.4056 - accuracy: 0.8491 - val_loss: 0.4191 - val_accuracy: 0.8277\n",
      "Epoch 5/5\n",
      "259/259 [==============================] - 1s 3ms/step - loss: 0.3801 - accuracy: 0.8563 - val_loss: 0.4096 - val_accuracy: 0.8280\n"
     ]
    }
   ],
   "source": [
    "# GlobalMaxPooling1D layer 모델 학습\n",
    "\n",
    "model.compile(optimizer='adam',\n",
    "               loss='binary_crossentropy',\n",
    "               metrics=['accuracy'])\n",
    "epochs = 5\n",
    "\n",
    "history = model.fit(partial_X_train,\n",
    "                    partial_y_train,\n",
    "                    epochs=epochs,\n",
    "                    batch_size=512,\n",
    "                    validation_data=(X_val,y_val),\n",
    "                    verbose=1)"
   ]
  },
  {
   "cell_type": "code",
   "execution_count": 16,
   "id": "ba889264",
   "metadata": {},
   "outputs": [
    {
     "name": "stdout",
     "output_type": "stream",
     "text": [
      "1537/1537 - 2s - loss: 0.4189 - accuracy: 0.8274\n",
      "[0.41894859075546265, 0.8273897767066956]\n"
     ]
    }
   ],
   "source": [
    "# GlobalMaxPooling1D layer 모델 평가\n",
    "\n",
    "results = model.evaluate(X_test, y_test, verbose=2)\n",
    "print(results)"
   ]
  },
  {
   "cell_type": "code",
   "execution_count": 17,
   "id": "ea317093",
   "metadata": {
    "scrolled": true
   },
   "outputs": [
    {
     "name": "stdout",
     "output_type": "stream",
     "text": [
      "dict_keys(['loss', 'accuracy', 'val_loss', 'val_accuracy'])\n"
     ]
    },
    {
     "data": {
      "image/png": "[encoded data removed]",
      "text/plain": [
       "<Figure size 432x288 with 1 Axes>"
      ]
     },
     "metadata": {
      "needs_background": "light"
     },
     "output_type": "display_data"
    },
    {
     "data": {
      "image/png": "[encoded data removed]",
      "text/plain": [
       "<Figure size 432x288 with 1 Axes>"
      ]
     },
     "metadata": {
      "needs_background": "light"
     },
     "output_type": "display_data"
    }
   ],
   "source": [
    "# GlobalMaxPooling1D layer 모델\n",
    "\n",
    "history_dict = history.history\n",
    "print(history_dict.keys()) # epoch에 따른 그래프를 그려볼 수 있는 항목들\n",
    "\n",
    "import matplotlib.pyplot as plt\n",
    "%matplotlib inline\n",
    "\n",
    "acc = history_dict['accuracy']\n",
    "val_acc = history_dict['val_accuracy']\n",
    "loss = history_dict['loss']\n",
    "val_loss = history_dict['val_loss']\n",
    "\n",
    "epochs = range(1, len(acc) + 1)\n",
    "\n",
    "# Loss 그래프\n",
    "\n",
    " # \"bo\"는 \"파란색 점\"입니다\n",
    "plt.plot(epochs, loss, 'bo', label='Training loss')\n",
    " # b는 \"파란 실선\"입니다\n",
    "plt.plot(epochs, val_loss, 'b', label='Validation loss')\n",
    "plt.title('Training and validation loss')\n",
    "plt.xlabel('Epochs')\n",
    "plt.ylabel('Loss')\n",
    "plt.legend()\n",
    "\n",
    "plt.show()\n",
    "\n",
    "# Accuracy 그래프\n",
    "\n",
    "plt.plot(epochs, acc, 'bo', label='Training acc')\n",
    "plt.plot(epochs, val_acc, 'b', label='Validation acc')\n",
    "plt.title('Training and validation accuracy')\n",
    "plt.xlabel('Epochs')\n",
    "plt.ylabel('Accuracy')\n",
    "plt.legend()\n",
    "\n",
    "plt.show()"
   ]
  },
  {
   "cell_type": "markdown",
   "id": "913be05a",
   "metadata": {},
   "source": [
    "* Training and Validation Loss를 그려보면, 몇 epoch까지의 트레이닝이 적절한지 최적점을 추정해 볼 수 있다.\n",
    "* Validation Loss 그래프가 Training Loss와 이격이 발생하게 되면 더 이상의 트레이닝은 무의미해진다.\n",
    "* 따라서 epoch을 5로 정해주었다.\n",
    "* 마찬가지로 Training and Validation Accuracy도 그려 유사한 인사이트를 얻을 수 있었다."
   ]
  },
  {
   "cell_type": "markdown",
   "id": "bfdf69b0",
   "metadata": {},
   "source": [
    "#### 2. LSTM"
   ]
  },
  {
   "cell_type": "code",
   "execution_count": 18,
   "id": "ba180c92",
   "metadata": {},
   "outputs": [
    {
     "name": "stdout",
     "output_type": "stream",
     "text": [
      "Model: \"sequential_1\"\n",
      "_________________________________________________________________\n",
      "Layer (type)                 Output Shape              Param #   \n",
      "=================================================================\n",
      "embedding_1 (Embedding)      (None, None, 5)           50000     \n",
      "_________________________________________________________________\n",
      "lstm (LSTM)                  (None, 8)                 448       \n",
      "_________________________________________________________________\n",
      "dense_2 (Dense)              (None, 8)                 72        \n",
      "_________________________________________________________________\n",
      "dense_3 (Dense)              (None, 1)                 9         \n",
      "=================================================================\n",
      "Total params: 50,529\n",
      "Trainable params: 50,529\n",
      "Non-trainable params: 0\n",
      "_________________________________________________________________\n"
     ]
    }
   ],
   "source": [
    "# LSTM 모델 설계\n",
    "model = tf.keras.Sequential()\n",
    "model.add(tf.keras.layers.Embedding(vocab_size, word_vector_dim, input_shape=(None,)))\n",
    "model.add(tf.keras.layers.LSTM(8))\n",
    "model.add(tf.keras.layers.Dense(8, activation='relu'))\n",
    "model.add(tf.keras.layers.Dense(1, activation='sigmoid'))\n",
    "\n",
    "model.summary()"
   ]
  },
  {
   "cell_type": "code",
   "execution_count": 19,
   "id": "7663e793",
   "metadata": {},
   "outputs": [
    {
     "name": "stdout",
     "output_type": "stream",
     "text": [
      "Epoch 1/5\n",
      "259/259 [==============================] - 4s 7ms/step - loss: 0.6488 - accuracy: 0.5750 - val_loss: 0.4311 - val_accuracy: 0.8161\n",
      "Epoch 2/5\n",
      "259/259 [==============================] - 1s 5ms/step - loss: 0.3703 - accuracy: 0.8409 - val_loss: 0.3451 - val_accuracy: 0.8516\n",
      "Epoch 3/5\n",
      "259/259 [==============================] - 1s 5ms/step - loss: 0.3294 - accuracy: 0.8612 - val_loss: 0.3429 - val_accuracy: 0.8526\n",
      "Epoch 4/5\n",
      "259/259 [==============================] - 1s 5ms/step - loss: 0.3163 - accuracy: 0.8665 - val_loss: 0.3424 - val_accuracy: 0.8511\n",
      "Epoch 5/5\n",
      "259/259 [==============================] - 1s 5ms/step - loss: 0.3101 - accuracy: 0.8694 - val_loss: 0.3462 - val_accuracy: 0.8484\n"
     ]
    }
   ],
   "source": [
    "# LSTM 모델 학습\n",
    "model.compile(optimizer='adam',\n",
    "               loss='binary_crossentropy',\n",
    "               metrics=['accuracy'])\n",
    "epochs = 5\n",
    "\n",
    "history = model.fit(partial_X_train,\n",
    "                    partial_y_train,\n",
    "                    epochs=epochs,\n",
    "                    batch_size=512,\n",
    "                    validation_data=(X_val,y_val),\n",
    "                    verbose=1)"
   ]
  },
  {
   "cell_type": "code",
   "execution_count": 20,
   "id": "61be2f4e",
   "metadata": {},
   "outputs": [
    {
     "name": "stdout",
     "output_type": "stream",
     "text": [
      "1537/1537 - 3s - loss: 0.3574 - accuracy: 0.8457\n",
      "[0.3574348986148834, 0.8457188010215759]\n"
     ]
    }
   ],
   "source": [
    "# LSTM 모델 평가\n",
    "results = model.evaluate(X_test, y_test, verbose=2)\n",
    "print(results)"
   ]
  },
  {
   "cell_type": "code",
   "execution_count": 21,
   "id": "a3ac0e69",
   "metadata": {
    "scrolled": false
   },
   "outputs": [
    {
     "name": "stdout",
     "output_type": "stream",
     "text": [
      "dict_keys(['loss', 'accuracy', 'val_loss', 'val_accuracy'])\n"
     ]
    },
    {
     "data": {
      "image/png": "[encoded data removed]",
      "text/plain": [
       "<Figure size 432x288 with 1 Axes>"
      ]
     },
     "metadata": {
      "needs_background": "light"
     },
     "output_type": "display_data"
    },
    {
     "data": {
      "image/png": "[encoded data removed]",
      "text/plain": [
       "<Figure size 432x288 with 1 Axes>"
      ]
     },
     "metadata": {
      "needs_background": "light"
     },
     "output_type": "display_data"
    }
   ],
   "source": [
    "# LSTM 모델\n",
    "history_dict = history.history\n",
    "print(history_dict.keys()) # epoch에 따른 그래프를 그려볼 수 있는 항목들\n",
    "import matplotlib.pyplot as plt\n",
    "\n",
    "acc = history_dict['accuracy']\n",
    "val_acc = history_dict['val_accuracy']\n",
    "loss = history_dict['loss']\n",
    "val_loss = history_dict['val_loss']\n",
    "\n",
    "epochs = range(1, len(acc) + 1)\n",
    "\n",
    "# Loss 그래프\n",
    "# \"bo\"는 \"파란색 점\"입니다\n",
    "plt.plot(epochs, loss, 'bo', label='Training loss')\n",
    "# b는 \"파란 실선\"입니다\n",
    "plt.plot(epochs, val_loss, 'b', label='Validation loss')\n",
    "plt.title('Training and validation loss')\n",
    "plt.xlabel('Epochs')\n",
    "plt.ylabel('Loss')\n",
    "plt.legend()\n",
    "\n",
    "plt.show()\n",
    "\n",
    "# Accuracy 그래프\n",
    "plt.clf()   # 그림을 초기화합니다\n",
    "\n",
    "plt.plot(epochs, acc, 'bo', label='Training acc')\n",
    "plt.plot(epochs, val_acc, 'b', label='Validation acc')\n",
    "plt.title('Training and validation accuracy')\n",
    "plt.xlabel('Epochs')\n",
    "plt.ylabel('Accuracy')\n",
    "plt.legend()\n",
    "\n",
    "plt.show()"
   ]
  },
  {
   "cell_type": "markdown",
   "id": "17497a73",
   "metadata": {},
   "source": [
    "#### 3. 1-D CNN"
   ]
  },
  {
   "cell_type": "code",
   "execution_count": 22,
   "id": "eeeed70e",
   "metadata": {},
   "outputs": [
    {
     "name": "stdout",
     "output_type": "stream",
     "text": [
      "Model: \"sequential_2\"\n",
      "_________________________________________________________________\n",
      "Layer (type)                 Output Shape              Param #   \n",
      "=================================================================\n",
      "embedding_2 (Embedding)      (None, None, 5)           50000     \n",
      "_________________________________________________________________\n",
      "conv1d (Conv1D)              (None, None, 16)          576       \n",
      "_________________________________________________________________\n",
      "max_pooling1d (MaxPooling1D) (None, None, 16)          0         \n",
      "_________________________________________________________________\n",
      "conv1d_1 (Conv1D)            (None, None, 16)          1808      \n",
      "_________________________________________________________________\n",
      "global_max_pooling1d_1 (Glob (None, 16)                0         \n",
      "_________________________________________________________________\n",
      "dense_4 (Dense)              (None, 8)                 136       \n",
      "_________________________________________________________________\n",
      "dense_5 (Dense)              (None, 1)                 9         \n",
      "=================================================================\n",
      "Total params: 52,529\n",
      "Trainable params: 52,529\n",
      "Non-trainable params: 0\n",
      "_________________________________________________________________\n"
     ]
    }
   ],
   "source": [
    "# 1-D CNN 모델 설계\n",
    "model = tf.keras.Sequential()\n",
    "model.add(tf.keras.layers.Embedding(vocab_size, word_vector_dim, input_shape=(None,)))\n",
    "model.add(tf.keras.layers.Conv1D(16, 7, activation='relu'))\n",
    "model.add(tf.keras.layers.MaxPooling1D(5))\n",
    "model.add(tf.keras.layers.Conv1D(16, 7, activation='relu'))\n",
    "model.add(tf.keras.layers.GlobalMaxPooling1D())\n",
    "model.add(tf.keras.layers.Dense(8, activation='relu'))\n",
    "model.add(tf.keras.layers.Dense(1, activation='sigmoid'))\n",
    "\n",
    "model.summary()"
   ]
  },
  {
   "cell_type": "code",
   "execution_count": 23,
   "id": "6288305b",
   "metadata": {},
   "outputs": [
    {
     "name": "stdout",
     "output_type": "stream",
     "text": [
      "Epoch 1/5\n",
      "259/259 [==============================] - 3s 5ms/step - loss: 0.5133 - accuracy: 0.7325 - val_loss: 0.3754 - val_accuracy: 0.8319\n",
      "Epoch 2/5\n",
      "259/259 [==============================] - 1s 4ms/step - loss: 0.3458 - accuracy: 0.8528 - val_loss: 0.3496 - val_accuracy: 0.8481\n",
      "Epoch 3/5\n",
      "259/259 [==============================] - 1s 4ms/step - loss: 0.3164 - accuracy: 0.8677 - val_loss: 0.3479 - val_accuracy: 0.8473\n",
      "Epoch 4/5\n",
      "259/259 [==============================] - 1s 4ms/step - loss: 0.2986 - accuracy: 0.8760 - val_loss: 0.3499 - val_accuracy: 0.8451\n",
      "Epoch 5/5\n",
      "259/259 [==============================] - 1s 4ms/step - loss: 0.2818 - accuracy: 0.8847 - val_loss: 0.3490 - val_accuracy: 0.8493\n"
     ]
    }
   ],
   "source": [
    "# 1-D CNN 모델 학습\n",
    "model.compile(optimizer='adam',\n",
    "               loss='binary_crossentropy',\n",
    "               metrics=['accuracy'])\n",
    "epochs = 5\n",
    "\n",
    "history = model.fit(partial_X_train,\n",
    "                    partial_y_train,\n",
    "                    epochs=epochs,\n",
    "                    batch_size=512,\n",
    "                    validation_data=(X_val,y_val),\n",
    "                    verbose=1)"
   ]
  },
  {
   "cell_type": "code",
   "execution_count": 24,
   "id": "02ef570f",
   "metadata": {},
   "outputs": [
    {
     "name": "stdout",
     "output_type": "stream",
     "text": [
      "1537/1537 - 2s - loss: 0.3536 - accuracy: 0.8493\n",
      "[0.3535749018192291, 0.8493195176124573]\n"
     ]
    }
   ],
   "source": [
    "# 1-D CNN 모델 평가\n",
    "results = model.evaluate(X_test, y_test, verbose=2)\n",
    "print(results)"
   ]
  },
  {
   "cell_type": "code",
   "execution_count": 25,
   "id": "403be4b7",
   "metadata": {
    "scrolled": true
   },
   "outputs": [
    {
     "name": "stdout",
     "output_type": "stream",
     "text": [
      "dict_keys(['loss', 'accuracy', 'val_loss', 'val_accuracy'])\n"
     ]
    },
    {
     "data": {
      "image/png": "[encoded data removed]",
      "text/plain": [
       "<Figure size 432x288 with 1 Axes>"
      ]
     },
     "metadata": {
      "needs_background": "light"
     },
     "output_type": "display_data"
    },
    {
     "data": {
      "image/png": "[encoded data removed]",
      "text/plain": [
       "<Figure size 432x288 with 1 Axes>"
      ]
     },
     "metadata": {
      "needs_background": "light"
     },
     "output_type": "display_data"
    }
   ],
   "source": [
    "# 1-D CNN 모델 \n",
    "history_dict = history.history\n",
    "print(history_dict.keys()) # epoch에 따른 그래프를 그려볼 수 있는 항목들\n",
    "import matplotlib.pyplot as plt\n",
    "\n",
    "acc = history_dict['accuracy']\n",
    "val_acc = history_dict['val_accuracy']\n",
    "loss = history_dict['loss']\n",
    "val_loss = history_dict['val_loss']\n",
    "\n",
    "epochs = range(1, len(acc) + 1)\n",
    "\n",
    "# Loss 그래프# \"bo\"는 \"파란색 점\"입니다\n",
    "plt.plot(epochs, loss, 'bo', label='Training loss')\n",
    "# b는 \"파란 실선\"입니다\n",
    "plt.plot(epochs, val_loss, 'b', label='Validation loss')\n",
    "plt.title('Training and validation loss')\n",
    "plt.xlabel('Epochs')\n",
    "plt.ylabel('Loss')\n",
    "plt.legend()\n",
    "\n",
    "plt.show()\n",
    "\n",
    "# Accuracy 그래프\n",
    "plt.clf()   # 그림을 초기화합니다\n",
    "\n",
    "plt.plot(epochs, acc, 'bo', label='Training acc')\n",
    "plt.plot(epochs, val_acc, 'b', label='Validation acc')\n",
    "plt.title('Training and validation accuracy')\n",
    "plt.xlabel('Epochs')\n",
    "plt.ylabel('Accuracy')\n",
    "plt.legend()\n",
    "\n",
    "plt.show()"
   ]
  },
  {
   "cell_type": "markdown",
   "id": "99956e74",
   "metadata": {},
   "source": [
    "Model | Loss | Accuracy\n",
    "------|------|---------\n",
    "GlobalMaxPooling1D | 0.418 | 0.827\n",
    "LSTM | 0.357 | 0.845\n",
    "1-D CNN | 0.353 | 0.849"
   ]
  },
  {
   "cell_type": "markdown",
   "id": "f92b8342",
   "metadata": {},
   "source": [
    "### 학습된 Embedding 레이어 분석"
   ]
  },
  {
   "cell_type": "code",
   "execution_count": 26,
   "id": "b72ea9ce",
   "metadata": {},
   "outputs": [
    {
     "name": "stdout",
     "output_type": "stream",
     "text": [
      "(10000, 5)\n"
     ]
    }
   ],
   "source": [
    "# 학습된 Embedding layer 분석\n",
    "\n",
    "embedding_layer = model.layers[0]\n",
    "weights = embedding_layer.get_weights()[0]\n",
    "print(weights.shape)    # shape: (vocab_size, embedding_dim)"
   ]
  },
  {
   "cell_type": "code",
   "execution_count": 27,
   "id": "31732b4e",
   "metadata": {},
   "outputs": [],
   "source": [
    "# 학습한 Embedding 파라미터를 파일에 써서 저장합니다. \n",
    "word2vec_file_path = os.getenv('HOME')+'/aiffel/sentiment_classification/data/word2vec.txt'\n",
    "f = open(word2vec_file_path, 'w')\n",
    "f.write('{} {}\\n'.format(vocab_size-4, word_vector_dim))  # 몇개의 벡터를 얼마 사이즈로 기재할지 타이틀을 씁니다.\n",
    "\n",
    "# 단어 개수(에서 특수문자 4개는 제외하고)만큼의 워드 벡터를 파일에 기록합니다. \n",
    "vectors = model.get_weights()[0]\n",
    "for i in range(4,vocab_size):\n",
    "    f.write('{} {}\\n'.format(index_to_word[i], ' '.join(map(str, list(vectors[i, :])))))\n",
    "f.close()"
   ]
  },
  {
   "cell_type": "code",
   "execution_count": 28,
   "id": "9c9e1d45",
   "metadata": {
    "scrolled": true
   },
   "outputs": [
    {
     "data": {
      "text/plain": [
       "[('어울려요', 0.9880425333976746),\n",
       " ('슬픈', 0.9876216650009155),\n",
       " ('충만', 0.9873772859573364),\n",
       " ('살린', 0.9869508743286133),\n",
       " ('쩐', 0.9845016002655029),\n",
       " ('잘생긴', 0.9842177629470825),\n",
       " ('풀어낸', 0.9838762283325195),\n",
       " ('니까', 0.9822097420692444),\n",
       " ('이토록', 0.9818570613861084),\n",
       " ('거듭', 0.9816185235977173)]"
      ]
     },
     "execution_count": 28,
     "metadata": {},
     "output_type": "execute_result"
    }
   ],
   "source": [
    "from gensim.models.keyedvectors import Word2VecKeyedVectors\n",
    "\n",
    "word_vectors = Word2VecKeyedVectors.load_word2vec_format(word2vec_file_path, binary=False)\n",
    "\n",
    "word_vectors.similar_by_word(\"사랑\")"
   ]
  },
  {
   "cell_type": "markdown",
   "id": "a225aa2e",
   "metadata": {},
   "source": [
    "* gensim에서 제공하는 패키지를 이용해, 위에 남긴 임베딩 파라미터를 읽어서 wordvector로 활용하였다.\n",
    "* wordvector가 의미 벡터 공간상에 유의미하게 학습되었는지 확인하기 위해 \"사랑\"이라는 단어를 주고 이와 가장 유사한 단어와 그 유사도를 확인하였다.\n",
    "* \"사랑\"이라는 단어와 유사한 단어를 그리 잘 찾았다고 느껴지지 않는다.\n",
    "* 분류 태스크를 잠깐 학습한 것만으로는 wordvector가 유의미하게 학습되기는 어려운 것 같다."
   ]
  },
  {
   "cell_type": "markdown",
   "id": "1c19012a",
   "metadata": {},
   "source": [
    "### 한국어 Word2Vec Embedding 활용하여 성능 개선"
   ]
  },
  {
   "cell_type": "code",
   "execution_count": 29,
   "id": "9c0f721e",
   "metadata": {},
   "outputs": [
    {
     "name": "stderr",
     "output_type": "stream",
     "text": [
      "/tmp/ipykernel_639/2680794339.py:8: DeprecationWarning: Call to deprecated `__getitem__` (Method will be removed in 4.0.0, use self.wv.__getitem__() instead).\n",
      "  vector = word2vec['영화']\n"
     ]
    },
    {
     "data": {
      "text/plain": [
       "(200,)"
      ]
     },
     "execution_count": 29,
     "metadata": {},
     "output_type": "execute_result"
    }
   ],
   "source": [
    "# 한국어 Word2Vec Embedding 활용하여 성능 개선\n",
    "\n",
    "import gensim\n",
    "from gensim.models import Word2Vec\n",
    "\n",
    "word2vec_path = os.getenv('HOME') + '/aiffel/sentiment_classification/data/ko.bin'\n",
    "word2vec = gensim.models.Word2Vec.load(word2vec_path)\n",
    "vector = word2vec['영화']\n",
    "vector.shape"
   ]
  },
  {
   "cell_type": "code",
   "execution_count": 30,
   "id": "f2276963",
   "metadata": {
    "scrolled": false
   },
   "outputs": [
    {
     "name": "stderr",
     "output_type": "stream",
     "text": [
      "/tmp/ipykernel_639/2258360420.py:1: DeprecationWarning: Call to deprecated `most_similar` (Method will be removed in 4.0.0, use self.wv.most_similar() instead).\n",
      "  word2vec.most_similar(\"사랑\")\n"
     ]
    },
    {
     "data": {
      "text/plain": [
       "[('슬픔', 0.7216662764549255),\n",
       " ('행복', 0.6759077310562134),\n",
       " ('절망', 0.6468985080718994),\n",
       " ('기쁨', 0.6458414196968079),\n",
       " ('이별', 0.6334798336029053),\n",
       " ('추억', 0.6320937275886536),\n",
       " ('인생', 0.6216273307800293),\n",
       " ('애정', 0.6206069588661194),\n",
       " ('연인', 0.6186063289642334),\n",
       " ('유혹', 0.5965287685394287)]"
      ]
     },
     "execution_count": 30,
     "metadata": {},
     "output_type": "execute_result"
    }
   ],
   "source": [
    "word2vec.most_similar(\"사랑\")"
   ]
  },
  {
   "cell_type": "markdown",
   "id": "6ffd35f9",
   "metadata": {},
   "source": [
    "* 한국어 Word2Vec 임베딩을 활용한 경우 \"사랑\"이란 단어와 유사한 단어를 앞선 경우보다 훨씬 잘 찾는다."
   ]
  },
  {
   "cell_type": "code",
   "execution_count": 31,
   "id": "971cbc03",
   "metadata": {},
   "outputs": [
    {
     "name": "stderr",
     "output_type": "stream",
     "text": [
      "/tmp/ipykernel_639/3625563249.py:7: DeprecationWarning: Call to deprecated `__contains__` (Method will be removed in 4.0.0, use self.wv.__contains__() instead).\n",
      "  if index_to_word[i] in word2vec:\n",
      "/tmp/ipykernel_639/3625563249.py:8: DeprecationWarning: Call to deprecated `__getitem__` (Method will be removed in 4.0.0, use self.wv.__getitem__() instead).\n",
      "  embedding_matrix[i] = word2vec[index_to_word[i]]\n"
     ]
    }
   ],
   "source": [
    "vocab_size = 10000 \n",
    "word_vector_dim = 200\n",
    "\n",
    "embedding_matrix = np.random.rand(vocab_size, word_vector_dim)\n",
    "\n",
    "for i in range(4, vocab_size):\n",
    "    if index_to_word[i] in word2vec:\n",
    "        embedding_matrix[i] = word2vec[index_to_word[i]]"
   ]
  },
  {
   "cell_type": "markdown",
   "id": "041e4962",
   "metadata": {},
   "source": [
    "* 다음 링크 (https://github.com/Kyubyong/wordvectors) 에서 적절한 ko.bin(Korean word2vec)을 찾아 이용하였다. \n",
    "* pip install --upgrade gensim==3.8.3을 Cloud shell에 입력해주어 gensim 버전을 3.8.3으로 낮춰 오류가 나지 않도록 하였다."
   ]
  },
  {
   "cell_type": "markdown",
   "id": "25c87124",
   "metadata": {},
   "source": [
    "#### LSTM 모델로 훈련"
   ]
  },
  {
   "cell_type": "code",
   "execution_count": 32,
   "id": "3b4bd33e",
   "metadata": {},
   "outputs": [
    {
     "name": "stdout",
     "output_type": "stream",
     "text": [
      "Model: \"sequential_3\"\n",
      "_________________________________________________________________\n",
      "Layer (type)                 Output Shape              Param #   \n",
      "=================================================================\n",
      "embedding_3 (Embedding)      (None, 41, 200)           2000000   \n",
      "_________________________________________________________________\n",
      "lstm_1 (LSTM)                (None, 128)               168448    \n",
      "_________________________________________________________________\n",
      "dense_6 (Dense)              (None, 1)                 129       \n",
      "=================================================================\n",
      "Total params: 2,168,577\n",
      "Trainable params: 2,168,577\n",
      "Non-trainable params: 0\n",
      "_________________________________________________________________\n"
     ]
    }
   ],
   "source": [
    "from tensorflow.keras.initializers import Constant\n",
    "model = tf.keras.Sequential()\n",
    "model.add(tf.keras.layers.Embedding(vocab_size, \n",
    "                                    word_vector_dim, \n",
    "                                    embeddings_initializer=Constant(embedding_matrix), \n",
    "                                    input_length=maxlen,\n",
    "                                    trainable=True))\n",
    "model.add(tf.keras.layers.LSTM(128))\n",
    "model.add(tf.keras.layers.Dense(1, activation='sigmoid')) # 최종 출력은 긍정/부정을 나타내는 1dim 입니다.\n",
    "\n",
    "model.summary()"
   ]
  },
  {
   "cell_type": "code",
   "execution_count": 33,
   "id": "80a59492",
   "metadata": {},
   "outputs": [
    {
     "name": "stdout",
     "output_type": "stream",
     "text": [
      "Epoch 1/5\n",
      "259/259 [==============================] - 5s 15ms/step - loss: 0.5525 - accuracy: 0.6898 - val_loss: 0.3904 - val_accuracy: 0.8274\n",
      "Epoch 2/5\n",
      "259/259 [==============================] - 4s 14ms/step - loss: 0.3479 - accuracy: 0.8478 - val_loss: 0.3267 - val_accuracy: 0.8562\n",
      "Epoch 3/5\n",
      "259/259 [==============================] - 4s 14ms/step - loss: 0.2948 - accuracy: 0.8745 - val_loss: 0.3163 - val_accuracy: 0.8636\n",
      "Epoch 4/5\n",
      "259/259 [==============================] - 4s 14ms/step - loss: 0.2644 - accuracy: 0.8906 - val_loss: 0.3262 - val_accuracy: 0.8615\n",
      "Epoch 5/5\n",
      "259/259 [==============================] - 4s 14ms/step - loss: 0.2420 - accuracy: 0.9011 - val_loss: 0.3206 - val_accuracy: 0.8679\n"
     ]
    }
   ],
   "source": [
    "model.compile(optimizer='adam',\n",
    "             loss='binary_crossentropy',\n",
    "             metrics=['accuracy'])\n",
    "epochs = 5\n",
    "\n",
    "history = model.fit(partial_X_train,\n",
    "                    partial_y_train,\n",
    "                    epochs=epochs,\n",
    "                    batch_size=512,\n",
    "                    validation_data=(X_val, y_val),\n",
    "                    verbose=1)"
   ]
  },
  {
   "cell_type": "code",
   "execution_count": 34,
   "id": "d0b4cdac",
   "metadata": {},
   "outputs": [
    {
     "name": "stdout",
     "output_type": "stream",
     "text": [
      "1537/1537 - 3s - loss: 0.3315 - accuracy: 0.8630\n",
      "[0.3315325081348419, 0.8630103468894958]\n"
     ]
    }
   ],
   "source": [
    "results = model.evaluate(X_test, y_test, verbose=2)\n",
    "print(results)"
   ]
  },
  {
   "cell_type": "code",
   "execution_count": 35,
   "id": "92accebd",
   "metadata": {},
   "outputs": [
    {
     "name": "stdout",
     "output_type": "stream",
     "text": [
      "dict_keys(['loss', 'accuracy', 'val_loss', 'val_accuracy'])\n"
     ]
    },
    {
     "data": {
      "image/png": "[encoded data removed]",
      "text/plain": [
       "<Figure size 432x288 with 1 Axes>"
      ]
     },
     "metadata": {
      "needs_background": "light"
     },
     "output_type": "display_data"
    },
    {
     "data": {
      "image/png": "[encoded data removed]",
      "text/plain": [
       "<Figure size 432x288 with 1 Axes>"
      ]
     },
     "metadata": {
      "needs_background": "light"
     },
     "output_type": "display_data"
    }
   ],
   "source": [
    "history_dict = history.history\n",
    "print(history_dict.keys())\n",
    "\n",
    "acc = history_dict['accuracy']\n",
    "val_acc = history_dict['val_accuracy']\n",
    "loss = history_dict['loss']\n",
    "val_loss = history_dict['val_loss']\n",
    "\n",
    "epochs = range(1, len(acc) + 1)\n",
    "\n",
    "# Loss 그래프\n",
    "\n",
    "# \"bo\"는 \"파란색 점\"입니다\n",
    "plt.plot(epochs, loss, 'bo', label='Training loss')\n",
    "# b는 \"파란 실선\"입니다\n",
    "plt.plot(epochs, val_loss, 'b', label='Validation loss')\n",
    "plt.title('Training and validation loss')\n",
    "plt.xlabel('Epochs')\n",
    "plt.ylabel('Loss')\n",
    "plt.legend()\n",
    "\n",
    "plt.show()\n",
    "\n",
    "# Accuracy 그래프\n",
    "\n",
    "plt.clf()   # 그림을 초기화합니다\n",
    "\n",
    "plt.plot(epochs, acc, 'bo', label='Training acc')\n",
    "plt.plot(epochs, val_acc, 'b', label='Validation acc')\n",
    "plt.title('Training and validation accuracy')\n",
    "plt.xlabel('Epochs')\n",
    "plt.ylabel('Accuracy')\n",
    "plt.legend()\n",
    "\n",
    "plt.show()"
   ]
  },
  {
   "cell_type": "markdown",
   "id": "a5f46bfa",
   "metadata": {},
   "source": [
    "* LSTM 모델에 한국어 Word2Vec Embedding을 활용한 결과, 아래와 같이 loss, accuracy 성능이 개선된 것을 확인하였다.\n",
    "* 앞선 경우와 마찬가지로, epoch이 커질 경우 training set에 과대적합되어 validation set에 적절한 예측을 하지 못한다.\n",
    "* 따라서 epoch을 5로 지정해주었고, batch_size도 똑같은 맥락으로 과대적합을 방지하기 위하여 512로 지정해주었다.\n",
    "* 그 결과, 정확도 약 86%를 달성할 수 있었다."
   ]
  },
  {
   "cell_type": "markdown",
   "id": "95a9e6b9",
   "metadata": {},
   "source": [
    "Embedding | Loss | Accuracy\n",
    "----------|------|---------\n",
    "학습된 Embedding | 0.357 | 0.845\n",
    "한국어 Word2Vec Embedding | 0.331 | 0.863\n",
    "     "
   ]
  }
 ],
 "metadata": {
  "kernelspec": {
   "display_name": "Python 3 (ipykernel)",
   "language": "python",
   "name": "python3"
  },
  "language_info": {
   "codemirror_mode": {
    "name": "ipython",
    "version": 3
   },
   "file_extension": ".py",
   "mimetype": "text/x-python",
   "name": "python",
   "nbconvert_exporter": "python",
   "pygments_lexer": "ipython3",
   "version": "3.9.7"
  }
 },
 "nbformat": 4,
 "nbformat_minor": 5
}
